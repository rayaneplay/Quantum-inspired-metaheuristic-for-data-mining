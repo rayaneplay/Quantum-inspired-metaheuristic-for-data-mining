{
 "cells": [
  {
   "cell_type": "code",
   "execution_count": 1,
   "metadata": {},
   "outputs": [],
   "source": [
    "import sys\n",
    "import numpy as np\n",
    "import math\n",
    "from preprocess import *"
   ]
  },
  {
   "cell_type": "markdown",
   "metadata": {},
   "source": [
    "## Load dataset"
   ]
  },
  {
   "cell_type": "code",
   "execution_count": 2,
   "metadata": {},
   "outputs": [
    {
     "name": "stdout",
     "output_type": "stream",
     "text": [
      "[[5.1, 3.5, 1.4, 0.2], [4.9, 3.0, 1.4, 0.2], [4.7, 3.2, 1.3, 0.2], [4.6, 3.1, 1.5, 0.2], [5.0, 3.6, 1.4, 0.2], [5.4, 3.9, 1.7, 0.4], [4.6, 3.4, 1.4, 0.3], [5.0, 3.4, 1.5, 0.2], [4.4, 2.9, 1.4, 0.2], [4.9, 3.1, 1.5, 0.1], [5.4, 3.7, 1.5, 0.2], [4.8, 3.4, 1.6, 0.2], [4.8, 3.0, 1.4, 0.1], [4.3, 3.0, 1.1, 0.1], [5.8, 4.0, 1.2, 0.2], [5.7, 4.4, 1.5, 0.4], [5.4, 3.9, 1.3, 0.4], [5.1, 3.5, 1.4, 0.3], [5.7, 3.8, 1.7, 0.3], [5.1, 3.8, 1.5, 0.3], [5.4, 3.4, 1.7, 0.2], [5.1, 3.7, 1.5, 0.4], [4.6, 3.6, 1.0, 0.2], [5.1, 3.3, 1.7, 0.5], [4.8, 3.4, 1.9, 0.2], [5.0, 3.0, 1.6, 0.2], [5.0, 3.4, 1.6, 0.4], [5.2, 3.5, 1.5, 0.2], [5.2, 3.4, 1.4, 0.2], [4.7, 3.2, 1.6, 0.2], [4.8, 3.1, 1.6, 0.2], [5.4, 3.4, 1.5, 0.4], [5.2, 4.1, 1.5, 0.1], [5.5, 4.2, 1.4, 0.2], [4.9, 3.1, 1.5, 0.1], [5.0, 3.2, 1.2, 0.2], [5.5, 3.5, 1.3, 0.2], [4.9, 3.1, 1.5, 0.1], [4.4, 3.0, 1.3, 0.2], [5.1, 3.4, 1.5, 0.2], [5.0, 3.5, 1.3, 0.3], [4.5, 2.3, 1.3, 0.3], [4.4, 3.2, 1.3, 0.2], [5.0, 3.5, 1.6, 0.6], [5.1, 3.8, 1.9, 0.4], [4.8, 3.0, 1.4, 0.3], [5.1, 3.8, 1.6, 0.2], [4.6, 3.2, 1.4, 0.2], [5.3, 3.7, 1.5, 0.2], [5.0, 3.3, 1.4, 0.2], [7.0, 3.2, 4.7, 1.4], [6.4, 3.2, 4.5, 1.5], [6.9, 3.1, 4.9, 1.5], [5.5, 2.3, 4.0, 1.3], [6.5, 2.8, 4.6, 1.5], [5.7, 2.8, 4.5, 1.3], [6.3, 3.3, 4.7, 1.6], [4.9, 2.4, 3.3, 1.0], [6.6, 2.9, 4.6, 1.3], [5.2, 2.7, 3.9, 1.4], [5.0, 2.0, 3.5, 1.0], [5.9, 3.0, 4.2, 1.5], [6.0, 2.2, 4.0, 1.0], [6.1, 2.9, 4.7, 1.4], [5.6, 2.9, 3.6, 1.3], [6.7, 3.1, 4.4, 1.4], [5.6, 3.0, 4.5, 1.5], [5.8, 2.7, 4.1, 1.0], [6.2, 2.2, 4.5, 1.5], [5.6, 2.5, 3.9, 1.1], [5.9, 3.2, 4.8, 1.8], [6.1, 2.8, 4.0, 1.3], [6.3, 2.5, 4.9, 1.5], [6.1, 2.8, 4.7, 1.2], [6.4, 2.9, 4.3, 1.3], [6.6, 3.0, 4.4, 1.4], [6.8, 2.8, 4.8, 1.4], [6.7, 3.0, 5.0, 1.7], [6.0, 2.9, 4.5, 1.5], [5.7, 2.6, 3.5, 1.0], [5.5, 2.4, 3.8, 1.1], [5.5, 2.4, 3.7, 1.0], [5.8, 2.7, 3.9, 1.2], [6.0, 2.7, 5.1, 1.6], [5.4, 3.0, 4.5, 1.5], [6.0, 3.4, 4.5, 1.6], [6.7, 3.1, 4.7, 1.5], [6.3, 2.3, 4.4, 1.3], [5.6, 3.0, 4.1, 1.3], [5.5, 2.5, 4.0, 1.3], [5.5, 2.6, 4.4, 1.2], [6.1, 3.0, 4.6, 1.4], [5.8, 2.6, 4.0, 1.2], [5.0, 2.3, 3.3, 1.0], [5.6, 2.7, 4.2, 1.3], [5.7, 3.0, 4.2, 1.2], [5.7, 2.9, 4.2, 1.3], [6.2, 2.9, 4.3, 1.3], [5.1, 2.5, 3.0, 1.1], [5.7, 2.8, 4.1, 1.3], [6.3, 3.3, 6.0, 2.5], [5.8, 2.7, 5.1, 1.9], [7.1, 3.0, 5.9, 2.1], [6.3, 2.9, 5.6, 1.8], [6.5, 3.0, 5.8, 2.2], [7.6, 3.0, 6.6, 2.1], [4.9, 2.5, 4.5, 1.7], [7.3, 2.9, 6.3, 1.8], [6.7, 2.5, 5.8, 1.8], [7.2, 3.6, 6.1, 2.5], [6.5, 3.2, 5.1, 2.0], [6.4, 2.7, 5.3, 1.9], [6.8, 3.0, 5.5, 2.1], [5.7, 2.5, 5.0, 2.0], [5.8, 2.8, 5.1, 2.4], [6.4, 3.2, 5.3, 2.3], [6.5, 3.0, 5.5, 1.8], [7.7, 3.8, 6.7, 2.2], [7.7, 2.6, 6.9, 2.3], [6.0, 2.2, 5.0, 1.5], [6.9, 3.2, 5.7, 2.3], [5.6, 2.8, 4.9, 2.0], [7.7, 2.8, 6.7, 2.0], [6.3, 2.7, 4.9, 1.8], [6.7, 3.3, 5.7, 2.1], [7.2, 3.2, 6.0, 1.8], [6.2, 2.8, 4.8, 1.8], [6.1, 3.0, 4.9, 1.8], [6.4, 2.8, 5.6, 2.1], [7.2, 3.0, 5.8, 1.6], [7.4, 2.8, 6.1, 1.9], [7.9, 3.8, 6.4, 2.0], [6.4, 2.8, 5.6, 2.2], [6.3, 2.8, 5.1, 1.5], [6.1, 2.6, 5.6, 1.4], [7.7, 3.0, 6.1, 2.3], [6.3, 3.4, 5.6, 2.4], [6.4, 3.1, 5.5, 1.8], [6.0, 3.0, 4.8, 1.8], [6.9, 3.1, 5.4, 2.1], [6.7, 3.1, 5.6, 2.4], [6.9, 3.1, 5.1, 2.3], [5.8, 2.7, 5.1, 1.9], [6.8, 3.2, 5.9, 2.3], [6.7, 3.3, 5.7, 2.5], [6.7, 3.0, 5.2, 2.3], [6.3, 2.5, 5.0, 1.9], [6.5, 3.0, 5.2, 2.0], [6.2, 3.4, 5.4, 2.3], [5.9, 3.0, 5.1, 1.8]]\n"
     ]
    }
   ],
   "source": [
    "path = \"Dataset\\\\Dataset.txt\"\n",
    "argument = 'r'\n",
    "dataset = LoadDataSet(path, argument)\n",
    "data = preprocessing(dataset)\n",
    "print(data)\n",
    "\n",
    "data_dict = list_to_dict(data)\n"
   ]
  },
  {
   "cell_type": "markdown",
   "metadata": {},
   "source": [
    "## Define classes for DEHO"
   ]
  },
  {
   "cell_type": "code",
   "execution_count": 3,
   "metadata": {},
   "outputs": [],
   "source": [
    "class Elephant:\n",
    "    def __init__(self, solution):\n",
    "        self.sol = solution         #array of binary value\n",
    "        self.fit = None             #float value\n",
    "    def __init__(self, solution,fitness):\n",
    "        self.sol = solution\n",
    "        self.fit = fitness\n",
    "\n",
    "\n",
    "class Clan:\n",
    "    def __init__(self,elephants,id):\n",
    "        self.elephants = elephants  #array of elephants\n",
    "        self.clan_id = id\n",
    "        self.best_fit = None        #float value\n",
    "        self.matriarch= None        #elephant\n",
    "        self.male = None            #elephant\n",
    "    \n",
    "    def __init__(self, clan_id):\n",
    "        self.clan_id = clan_id\n",
    "        self.elephants = []\n",
    "    \n",
    "    def set_matriarch(self):\n",
    "        fitness_values = np.array([elephant.fit for elephant in self.elephants])\n",
    "        max_index = np.argmax(fitness_values)\n",
    "        self.matriarch = self.elephants[max_index]\n",
    "\n",
    "def get_best_matriarch(clans):\n",
    "    matriarchs = []\n",
    "    for clan in clans:\n",
    "        matriarchs.append(clan.matriarch)\n",
    "    best_matriarch = max(matriarchs, key=lambda x: x.fit)\n",
    "    return best_matriarch"
   ]
  },
  {
   "cell_type": "code",
   "execution_count": 4,
   "metadata": {},
   "outputs": [],
   "source": [
    "total_instances = 100\n",
    "total_elephants = 20\n",
    "size_elephant = len(data)\n",
    "total_clans = 5\n",
    "total_generation = 1000\n",
    "min_elephant = 3"
   ]
  },
  {
   "cell_type": "markdown",
   "metadata": {},
   "source": [
    "## Implement elephant generating method"
   ]
  },
  {
   "cell_type": "code",
   "execution_count": 5,
   "metadata": {},
   "outputs": [
    {
     "name": "stdout",
     "output_type": "stream",
     "text": [
      "Binary Array 1 : [0, 0, 0, 0, 0, 0, 0, 0, 1, 0, 0, 0, 1, 0, 0, 0, 0, 0, 0, 0, 0, 0, 0, 1, 0, 0, 0, 0, 0, 0, 0, 0, 0, 0, 0, 0, 0, 0, 0, 1, 0, 0, 0, 0, 0, 1, 0, 0, 0, 0]\n"
     ]
    }
   ],
   "source": [
    "def generate_binary_arrays(k, size, num_arrays):\n",
    "    binary_arrays = []\n",
    "    for _ in range(num_arrays):\n",
    "        # Create an array with k ones and (size - k) zeros\n",
    "        array = np.zeros(size, dtype=int)\n",
    "        array[:k] = 1\n",
    "        # Shuffle the array to randomize the placement of ones\n",
    "        np.random.shuffle(array)\n",
    "        binary_arrays.append(array.tolist())\n",
    "    return binary_arrays\n",
    "\n",
    "\n",
    "# Example usage:\n",
    "k = 5  # Number of ones in each array\n",
    "size = 50  # Size of each array\n",
    "num_arrays = 1  # Number of arrays to generate\n",
    "\n",
    "binary_arrays = generate_binary_arrays(k, size, num_arrays)\n",
    "for i, array in enumerate(binary_arrays, start=1):\n",
    "    print(\"Binary Array\", i, \":\", array)"
   ]
  },
  {
   "cell_type": "markdown",
   "metadata": {},
   "source": [
    "## Binary array to dictionary "
   ]
  },
  {
   "cell_type": "code",
   "execution_count": 6,
   "metadata": {},
   "outputs": [
    {
     "name": "stdout",
     "output_type": "stream",
     "text": [
      "[0 1 0 1 0 1 1 0 1 0 1 1 0 1 1 1 1 1 0 0 1 1 1 1 1 0 0 1 0 1 1 0 1 1 0 0 1\n",
      " 0 1 0 1 0 0 1 1 1 1 1 1 1 1 0 1 1 1 0 1 0 1 1 1 0 1 0 0 1 1 0 1 1 0 0 1 1\n",
      " 1 0 0 0 0 1 1 1 0 0 1 0 0 1 1 0 0 0 0 0 0 0 0 0 0 0 0 0 0 1 1 0 1 1 0 1 0\n",
      " 0 0 0 1 1 0 0 1 1 0 1 0 1 1 0 1 1 1 1 0 0 1 1 1 1 0 0 0 0 0 1 1 0 1 1 1 1\n",
      " 0 0]\n"
     ]
    },
    {
     "data": {
      "text/plain": [
       "{2: [4.9, 3.0, 1.4, 0.2],\n",
       " 4: [4.6, 3.1, 1.5, 0.2],\n",
       " 6: [5.4, 3.9, 1.7, 0.4],\n",
       " 7: [4.6, 3.4, 1.4, 0.3],\n",
       " 9: [4.4, 2.9, 1.4, 0.2],\n",
       " 11: [5.4, 3.7, 1.5, 0.2],\n",
       " 12: [4.8, 3.4, 1.6, 0.2],\n",
       " 14: [4.3, 3.0, 1.1, 0.1],\n",
       " 15: [5.8, 4.0, 1.2, 0.2],\n",
       " 16: [5.7, 4.4, 1.5, 0.4],\n",
       " 17: [5.4, 3.9, 1.3, 0.4],\n",
       " 18: [5.1, 3.5, 1.4, 0.3],\n",
       " 21: [5.4, 3.4, 1.7, 0.2],\n",
       " 22: [5.1, 3.7, 1.5, 0.4],\n",
       " 23: [4.6, 3.6, 1.0, 0.2],\n",
       " 24: [5.1, 3.3, 1.7, 0.5],\n",
       " 25: [4.8, 3.4, 1.9, 0.2],\n",
       " 28: [5.2, 3.5, 1.5, 0.2],\n",
       " 30: [4.7, 3.2, 1.6, 0.2],\n",
       " 31: [4.8, 3.1, 1.6, 0.2],\n",
       " 33: [5.2, 4.1, 1.5, 0.1],\n",
       " 34: [5.5, 4.2, 1.4, 0.2],\n",
       " 37: [5.5, 3.5, 1.3, 0.2],\n",
       " 39: [4.4, 3.0, 1.3, 0.2],\n",
       " 41: [5.0, 3.5, 1.3, 0.3],\n",
       " 44: [5.0, 3.5, 1.6, 0.6],\n",
       " 45: [5.1, 3.8, 1.9, 0.4],\n",
       " 46: [4.8, 3.0, 1.4, 0.3],\n",
       " 47: [5.1, 3.8, 1.6, 0.2],\n",
       " 48: [4.6, 3.2, 1.4, 0.2],\n",
       " 49: [5.3, 3.7, 1.5, 0.2],\n",
       " 50: [5.0, 3.3, 1.4, 0.2],\n",
       " 51: [7.0, 3.2, 4.7, 1.4],\n",
       " 53: [6.9, 3.1, 4.9, 1.5],\n",
       " 54: [5.5, 2.3, 4.0, 1.3],\n",
       " 55: [6.5, 2.8, 4.6, 1.5],\n",
       " 57: [6.3, 3.3, 4.7, 1.6],\n",
       " 59: [6.6, 2.9, 4.6, 1.3],\n",
       " 60: [5.2, 2.7, 3.9, 1.4],\n",
       " 61: [5.0, 2.0, 3.5, 1.0],\n",
       " 63: [6.0, 2.2, 4.0, 1.0],\n",
       " 66: [6.7, 3.1, 4.4, 1.4],\n",
       " 67: [5.6, 3.0, 4.5, 1.5],\n",
       " 69: [6.2, 2.2, 4.5, 1.5],\n",
       " 70: [5.6, 2.5, 3.9, 1.1],\n",
       " 73: [6.3, 2.5, 4.9, 1.5],\n",
       " 74: [6.1, 2.8, 4.7, 1.2],\n",
       " 75: [6.4, 2.9, 4.3, 1.3],\n",
       " 80: [5.7, 2.6, 3.5, 1.0],\n",
       " 81: [5.5, 2.4, 3.8, 1.1],\n",
       " 82: [5.5, 2.4, 3.7, 1.0],\n",
       " 85: [5.4, 3.0, 4.5, 1.5],\n",
       " 88: [6.3, 2.3, 4.4, 1.3],\n",
       " 89: [5.6, 3.0, 4.1, 1.3],\n",
       " 104: [6.3, 2.9, 5.6, 1.8],\n",
       " 105: [6.5, 3.0, 5.8, 2.2],\n",
       " 107: [4.9, 2.5, 4.5, 1.7],\n",
       " 108: [7.3, 2.9, 6.3, 1.8],\n",
       " 110: [7.2, 3.6, 6.1, 2.5],\n",
       " 115: [5.8, 2.8, 5.1, 2.4],\n",
       " 116: [6.4, 3.2, 5.3, 2.3],\n",
       " 119: [7.7, 2.6, 6.9, 2.3],\n",
       " 120: [6.0, 2.2, 5.0, 1.5],\n",
       " 122: [5.6, 2.8, 4.9, 2.0],\n",
       " 124: [6.3, 2.7, 4.9, 1.8],\n",
       " 125: [6.7, 3.3, 5.7, 2.1],\n",
       " 127: [6.2, 2.8, 4.8, 1.8],\n",
       " 128: [6.1, 3.0, 4.9, 1.8],\n",
       " 129: [6.4, 2.8, 5.6, 2.1],\n",
       " 130: [7.2, 3.0, 5.8, 1.6],\n",
       " 133: [6.4, 2.8, 5.6, 2.2],\n",
       " 134: [6.3, 2.8, 5.1, 1.5],\n",
       " 135: [6.1, 2.6, 5.6, 1.4],\n",
       " 136: [7.7, 3.0, 6.1, 2.3],\n",
       " 142: [6.9, 3.1, 5.1, 2.3],\n",
       " 143: [5.8, 2.7, 5.1, 1.9],\n",
       " 145: [6.7, 3.3, 5.7, 2.5],\n",
       " 146: [6.7, 3.0, 5.2, 2.3],\n",
       " 147: [6.3, 2.5, 5.0, 1.9],\n",
       " 148: [6.5, 3.0, 5.2, 2.0]}"
      ]
     },
     "execution_count": 6,
     "metadata": {},
     "output_type": "execute_result"
    }
   ],
   "source": [
    "solution = np.random.randint(2, size=size_elephant)\n",
    "\n",
    "elephant_dict = elephant_to_dict(solution, data_dict)\n",
    "print(solution)\n",
    "elephant_dict"
   ]
  },
  {
   "cell_type": "markdown",
   "metadata": {},
   "source": [
    "## Binary array to index array"
   ]
  },
  {
   "cell_type": "code",
   "execution_count": 7,
   "metadata": {},
   "outputs": [
    {
     "name": "stdout",
     "output_type": "stream",
     "text": [
      "[2, 4, 6, 7, 9, 11, 12, 14, 15, 16, 17, 18, 21, 22, 23, 24, 25, 28, 30, 31, 33, 34, 37, 39, 41, 44, 45, 46, 47, 48, 49, 50, 51, 53, 54, 55, 57, 59, 60, 61, 63, 66, 67, 69, 70, 73, 74, 75, 80, 81, 82, 85, 88, 89, 104, 105, 107, 108, 110, 115, 116, 119, 120, 122, 124, 125, 127, 128, 129, 130, 133, 134, 135, 136, 142, 143, 145, 146, 147, 148]\n"
     ]
    }
   ],
   "source": [
    "index_array = binary_to_index(solution)\n",
    "print(index_array)"
   ]
  },
  {
   "cell_type": "markdown",
   "metadata": {},
   "source": [
    "## Binary array to datapoints"
   ]
  },
  {
   "cell_type": "code",
   "execution_count": 8,
   "metadata": {},
   "outputs": [
    {
     "name": "stdout",
     "output_type": "stream",
     "text": [
      "Values: [[4.9, 3.0, 1.4, 0.2], [4.6, 3.1, 1.5, 0.2], [5.4, 3.9, 1.7, 0.4], [4.6, 3.4, 1.4, 0.3], [4.4, 2.9, 1.4, 0.2], [5.4, 3.7, 1.5, 0.2], [4.8, 3.4, 1.6, 0.2], [4.3, 3.0, 1.1, 0.1], [5.8, 4.0, 1.2, 0.2], [5.7, 4.4, 1.5, 0.4], [5.4, 3.9, 1.3, 0.4], [5.1, 3.5, 1.4, 0.3], [5.4, 3.4, 1.7, 0.2], [5.1, 3.7, 1.5, 0.4], [4.6, 3.6, 1.0, 0.2], [5.1, 3.3, 1.7, 0.5], [4.8, 3.4, 1.9, 0.2], [5.2, 3.5, 1.5, 0.2], [4.7, 3.2, 1.6, 0.2], [4.8, 3.1, 1.6, 0.2], [5.2, 4.1, 1.5, 0.1], [5.5, 4.2, 1.4, 0.2], [5.5, 3.5, 1.3, 0.2], [4.4, 3.0, 1.3, 0.2], [5.0, 3.5, 1.3, 0.3], [5.0, 3.5, 1.6, 0.6], [5.1, 3.8, 1.9, 0.4], [4.8, 3.0, 1.4, 0.3], [5.1, 3.8, 1.6, 0.2], [4.6, 3.2, 1.4, 0.2], [5.3, 3.7, 1.5, 0.2], [5.0, 3.3, 1.4, 0.2], [7.0, 3.2, 4.7, 1.4], [6.9, 3.1, 4.9, 1.5], [5.5, 2.3, 4.0, 1.3], [6.5, 2.8, 4.6, 1.5], [6.3, 3.3, 4.7, 1.6], [6.6, 2.9, 4.6, 1.3], [5.2, 2.7, 3.9, 1.4], [5.0, 2.0, 3.5, 1.0], [6.0, 2.2, 4.0, 1.0], [6.7, 3.1, 4.4, 1.4], [5.6, 3.0, 4.5, 1.5], [6.2, 2.2, 4.5, 1.5], [5.6, 2.5, 3.9, 1.1], [6.3, 2.5, 4.9, 1.5], [6.1, 2.8, 4.7, 1.2], [6.4, 2.9, 4.3, 1.3], [5.7, 2.6, 3.5, 1.0], [5.5, 2.4, 3.8, 1.1], [5.5, 2.4, 3.7, 1.0], [5.4, 3.0, 4.5, 1.5], [6.3, 2.3, 4.4, 1.3], [5.6, 3.0, 4.1, 1.3], [6.3, 2.9, 5.6, 1.8], [6.5, 3.0, 5.8, 2.2], [4.9, 2.5, 4.5, 1.7], [7.3, 2.9, 6.3, 1.8], [7.2, 3.6, 6.1, 2.5], [5.8, 2.8, 5.1, 2.4], [6.4, 3.2, 5.3, 2.3], [7.7, 2.6, 6.9, 2.3], [6.0, 2.2, 5.0, 1.5], [5.6, 2.8, 4.9, 2.0], [6.3, 2.7, 4.9, 1.8], [6.7, 3.3, 5.7, 2.1], [6.2, 2.8, 4.8, 1.8], [6.1, 3.0, 4.9, 1.8], [6.4, 2.8, 5.6, 2.1], [7.2, 3.0, 5.8, 1.6], [6.4, 2.8, 5.6, 2.2], [6.3, 2.8, 5.1, 1.5], [6.1, 2.6, 5.6, 1.4], [7.7, 3.0, 6.1, 2.3], [6.9, 3.1, 5.1, 2.3], [5.8, 2.7, 5.1, 1.9], [6.7, 3.3, 5.7, 2.5], [6.7, 3.0, 5.2, 2.3], [6.3, 2.5, 5.0, 1.9], [6.5, 3.0, 5.2, 2.0]]\n"
     ]
    }
   ],
   "source": [
    "values = get_values(solution, data_dict)\n",
    "print(\"Values:\", values)"
   ]
  },
  {
   "cell_type": "markdown",
   "metadata": {},
   "source": [
    "## Cluster creations"
   ]
  },
  {
   "cell_type": "code",
   "execution_count": 9,
   "metadata": {},
   "outputs": [
    {
     "data": {
      "text/plain": [
       "{(5.1, 3.5, 1.4, 0.3): [[5.1, 3.5, 1.4, 0.2],\n",
       "  [5.0, 3.6, 1.4, 0.2],\n",
       "  [5.1, 3.5, 1.4, 0.3]],\n",
       " (4.9, 3.0, 1.4, 0.2): [[4.9, 3.0, 1.4, 0.2],\n",
       "  [4.9, 3.1, 1.5, 0.1],\n",
       "  [5.0, 3.0, 1.6, 0.2],\n",
       "  [4.9, 3.1, 1.5, 0.1],\n",
       "  [4.9, 3.1, 1.5, 0.1]],\n",
       " (4.6, 3.2, 1.4, 0.2): [[4.7, 3.2, 1.3, 0.2], [4.6, 3.2, 1.4, 0.2]],\n",
       " (4.6, 3.1, 1.5, 0.2): [[4.6, 3.1, 1.5, 0.2]],\n",
       " (5.4, 3.9, 1.7, 0.4): [[5.4, 3.9, 1.7, 0.4], [5.7, 3.8, 1.7, 0.3]],\n",
       " (4.6, 3.4, 1.4, 0.3): [[4.6, 3.4, 1.4, 0.3]],\n",
       " (5.0, 3.3, 1.4, 0.2): [[5.0, 3.4, 1.5, 0.2],\n",
       "  [5.0, 3.2, 1.2, 0.2],\n",
       "  [5.0, 3.3, 1.4, 0.2]],\n",
       " (4.4, 2.9, 1.4, 0.2): [[4.4, 2.9, 1.4, 0.2], [4.5, 2.3, 1.3, 0.3]],\n",
       " (5.4, 3.7, 1.5, 0.2): [[5.4, 3.7, 1.5, 0.2]],\n",
       " (4.8, 3.4, 1.6, 0.2): [[4.8, 3.4, 1.6, 0.2]],\n",
       " (4.8, 3.0, 1.4, 0.3): [[4.8, 3.0, 1.4, 0.1], [4.8, 3.0, 1.4, 0.3]],\n",
       " (4.3, 3.0, 1.1, 0.1): [[4.3, 3.0, 1.1, 0.1]],\n",
       " (5.8, 4.0, 1.2, 0.2): [[5.8, 4.0, 1.2, 0.2]],\n",
       " (5.7, 4.4, 1.5, 0.4): [[5.7, 4.4, 1.5, 0.4]],\n",
       " (5.4, 3.9, 1.3, 0.4): [[5.4, 3.9, 1.3, 0.4]],\n",
       " (5.1, 3.7, 1.5, 0.4): [[5.1, 3.8, 1.5, 0.3], [5.1, 3.7, 1.5, 0.4]],\n",
       " (5.4, 3.4, 1.7, 0.2): [[5.4, 3.4, 1.7, 0.2], [5.4, 3.4, 1.5, 0.4]],\n",
       " (4.6, 3.6, 1.0, 0.2): [[4.6, 3.6, 1.0, 0.2]],\n",
       " (5.1, 3.3, 1.7, 0.5): [[5.1, 3.3, 1.7, 0.5]],\n",
       " (4.8, 3.4, 1.9, 0.2): [[4.8, 3.4, 1.9, 0.2]],\n",
       " (5.0, 3.5, 1.6, 0.6): [[5.0, 3.4, 1.6, 0.4], [5.0, 3.5, 1.6, 0.6]],\n",
       " (5.2, 3.5, 1.5, 0.2): [[5.2, 3.5, 1.5, 0.2],\n",
       "  [5.2, 3.4, 1.4, 0.2],\n",
       "  [5.1, 3.4, 1.5, 0.2]],\n",
       " (4.7, 3.2, 1.6, 0.2): [[4.7, 3.2, 1.6, 0.2]],\n",
       " (4.8, 3.1, 1.6, 0.2): [[4.8, 3.1, 1.6, 0.2]],\n",
       " (5.2, 4.1, 1.5, 0.1): [[5.2, 4.1, 1.5, 0.1]],\n",
       " (5.5, 4.2, 1.4, 0.2): [[5.5, 4.2, 1.4, 0.2]],\n",
       " (5.5, 3.5, 1.3, 0.2): [[5.5, 3.5, 1.3, 0.2]],\n",
       " (4.4, 3.0, 1.3, 0.2): [[4.4, 3.0, 1.3, 0.2], [4.4, 3.2, 1.3, 0.2]],\n",
       " (5.0, 3.5, 1.3, 0.3): [[5.0, 3.5, 1.3, 0.3]],\n",
       " (5.1, 3.8, 1.9, 0.4): [[5.1, 3.8, 1.9, 0.4]],\n",
       " (5.1, 3.8, 1.6, 0.2): [[5.1, 3.8, 1.6, 0.2]],\n",
       " (5.3, 3.7, 1.5, 0.2): [[5.3, 3.7, 1.5, 0.2]],\n",
       " (7.0, 3.2, 4.7, 1.4): [[7.0, 3.2, 4.7, 1.4]],\n",
       " (6.3, 3.3, 4.7, 1.6): [[6.4, 3.2, 4.5, 1.5],\n",
       "  [6.3, 3.3, 4.7, 1.6],\n",
       "  [6.0, 3.4, 4.5, 1.6]],\n",
       " (6.9, 3.1, 4.9, 1.5): [[6.9, 3.1, 4.9, 1.5], [6.7, 3.0, 5.0, 1.7]],\n",
       " (5.5, 2.3, 4.0, 1.3): [[5.5, 2.3, 4.0, 1.3], [5.5, 2.5, 4.0, 1.3]],\n",
       " (6.5, 2.8, 4.6, 1.5): [[6.5, 2.8, 4.6, 1.5], [6.8, 2.8, 4.8, 1.4]],\n",
       " (5.6, 3.0, 4.5, 1.5): [[5.7, 2.8, 4.5, 1.3],\n",
       "  [5.9, 3.0, 4.2, 1.5],\n",
       "  [5.6, 3.0, 4.5, 1.5],\n",
       "  [6.0, 2.9, 4.5, 1.5]],\n",
       " (5.0, 2.0, 3.5, 1.0): [[4.9, 2.4, 3.3, 1.0],\n",
       "  [5.0, 2.0, 3.5, 1.0],\n",
       "  [5.0, 2.3, 3.3, 1.0],\n",
       "  [5.1, 2.5, 3.0, 1.1]],\n",
       " (6.6, 2.9, 4.6, 1.3): [[6.6, 2.9, 4.6, 1.3]],\n",
       " (5.2, 2.7, 3.9, 1.4): [[5.2, 2.7, 3.9, 1.4]],\n",
       " (6.0, 2.2, 4.0, 1.0): [[6.0, 2.2, 4.0, 1.0]],\n",
       " (6.1, 2.8, 4.7, 1.2): [[6.1, 2.9, 4.7, 1.4],\n",
       "  [6.1, 2.8, 4.7, 1.2],\n",
       "  [6.1, 3.0, 4.6, 1.4]],\n",
       " (5.6, 3.0, 4.1, 1.3): [[5.6, 2.9, 3.6, 1.3],\n",
       "  [5.6, 3.0, 4.1, 1.3],\n",
       "  [5.6, 2.7, 4.2, 1.3],\n",
       "  [5.7, 3.0, 4.2, 1.2],\n",
       "  [5.7, 2.9, 4.2, 1.3],\n",
       "  [5.7, 2.8, 4.1, 1.3]],\n",
       " (6.7, 3.1, 4.4, 1.4): [[6.7, 3.1, 4.4, 1.4],\n",
       "  [6.6, 3.0, 4.4, 1.4],\n",
       "  [6.7, 3.1, 4.7, 1.5]],\n",
       " (5.6, 2.5, 3.9, 1.1): [[5.8, 2.7, 4.1, 1.0],\n",
       "  [5.6, 2.5, 3.9, 1.1],\n",
       "  [5.8, 2.7, 3.9, 1.2],\n",
       "  [5.5, 2.6, 4.4, 1.2],\n",
       "  [5.8, 2.6, 4.0, 1.2]],\n",
       " (6.2, 2.2, 4.5, 1.5): [[6.2, 2.2, 4.5, 1.5]],\n",
       " (6.1, 3.0, 4.9, 1.8): [[5.9, 3.2, 4.8, 1.8],\n",
       "  [6.1, 3.0, 4.9, 1.8],\n",
       "  [6.0, 3.0, 4.8, 1.8],\n",
       "  [5.9, 3.0, 5.1, 1.8]],\n",
       " (6.4, 2.9, 4.3, 1.3): [[6.1, 2.8, 4.0, 1.3],\n",
       "  [6.4, 2.9, 4.3, 1.3],\n",
       "  [6.2, 2.9, 4.3, 1.3]],\n",
       " (6.3, 2.5, 4.9, 1.5): [[6.3, 2.5, 4.9, 1.5]],\n",
       " (5.7, 2.6, 3.5, 1.0): [[5.7, 2.6, 3.5, 1.0]],\n",
       " (5.5, 2.4, 3.8, 1.1): [[5.5, 2.4, 3.8, 1.1]],\n",
       " (5.5, 2.4, 3.7, 1.0): [[5.5, 2.4, 3.7, 1.0]],\n",
       " (6.3, 2.8, 5.1, 1.5): [[6.0, 2.7, 5.1, 1.6], [6.3, 2.8, 5.1, 1.5]],\n",
       " (5.4, 3.0, 4.5, 1.5): [[5.4, 3.0, 4.5, 1.5]],\n",
       " (6.3, 2.3, 4.4, 1.3): [[6.3, 2.3, 4.4, 1.3]],\n",
       " (6.7, 3.3, 5.7, 2.5): [[6.3, 3.3, 6.0, 2.5],\n",
       "  [6.7, 3.1, 5.6, 2.4],\n",
       "  [6.7, 3.3, 5.7, 2.5]],\n",
       " (5.8, 2.7, 5.1, 1.9): [[5.8, 2.7, 5.1, 1.9],\n",
       "  [5.7, 2.5, 5.0, 2.0],\n",
       "  [5.8, 2.7, 5.1, 1.9]],\n",
       " (7.2, 3.0, 5.8, 1.6): [[7.1, 3.0, 5.9, 2.1],\n",
       "  [7.2, 3.2, 6.0, 1.8],\n",
       "  [7.2, 3.0, 5.8, 1.6]],\n",
       " (6.3, 2.9, 5.6, 1.8): [[6.3, 2.9, 5.6, 1.8],\n",
       "  [6.7, 2.5, 5.8, 1.8],\n",
       "  [6.5, 3.0, 5.5, 1.8],\n",
       "  [6.4, 3.1, 5.5, 1.8]],\n",
       " (6.5, 3.0, 5.8, 2.2): [[6.5, 3.0, 5.8, 2.2]],\n",
       " (7.7, 3.0, 6.1, 2.3): [[7.6, 3.0, 6.6, 2.1],\n",
       "  [7.9, 3.8, 6.4, 2.0],\n",
       "  [7.7, 3.0, 6.1, 2.3]],\n",
       " (4.9, 2.5, 4.5, 1.7): [[4.9, 2.5, 4.5, 1.7]],\n",
       " (7.3, 2.9, 6.3, 1.8): [[7.3, 2.9, 6.3, 1.8], [7.4, 2.8, 6.1, 1.9]],\n",
       " (7.2, 3.6, 6.1, 2.5): [[7.2, 3.6, 6.1, 2.5]],\n",
       " (6.5, 3.0, 5.2, 2.0): [[6.5, 3.2, 5.1, 2.0],\n",
       "  [6.4, 2.7, 5.3, 1.9],\n",
       "  [6.5, 3.0, 5.2, 2.0]],\n",
       " (6.7, 3.0, 5.2, 2.3): [[6.8, 3.0, 5.5, 2.1], [6.7, 3.0, 5.2, 2.3]],\n",
       " (5.8, 2.8, 5.1, 2.4): [[5.8, 2.8, 5.1, 2.4]],\n",
       " (6.4, 3.2, 5.3, 2.3): [[6.4, 3.2, 5.3, 2.3],\n",
       "  [6.3, 3.4, 5.6, 2.4],\n",
       "  [6.2, 3.4, 5.4, 2.3]],\n",
       " (7.7, 2.6, 6.9, 2.3): [[7.7, 3.8, 6.7, 2.2],\n",
       "  [7.7, 2.6, 6.9, 2.3],\n",
       "  [7.7, 2.8, 6.7, 2.0]],\n",
       " (6.0, 2.2, 5.0, 1.5): [[6.0, 2.2, 5.0, 1.5]],\n",
       " (6.7, 3.3, 5.7, 2.1): [[6.9, 3.2, 5.7, 2.3],\n",
       "  [6.7, 3.3, 5.7, 2.1],\n",
       "  [6.8, 3.2, 5.9, 2.3]],\n",
       " (5.6, 2.8, 4.9, 2.0): [[5.6, 2.8, 4.9, 2.0]],\n",
       " (6.3, 2.7, 4.9, 1.8): [[6.3, 2.7, 4.9, 1.8]],\n",
       " (6.2, 2.8, 4.8, 1.8): [[6.2, 2.8, 4.8, 1.8]],\n",
       " (6.4, 2.8, 5.6, 2.1): [[6.4, 2.8, 5.6, 2.1]],\n",
       " (6.4, 2.8, 5.6, 2.2): [[6.4, 2.8, 5.6, 2.2]],\n",
       " (6.1, 2.6, 5.6, 1.4): [[6.1, 2.6, 5.6, 1.4]],\n",
       " (6.9, 3.1, 5.1, 2.3): [[6.9, 3.1, 5.4, 2.1], [6.9, 3.1, 5.1, 2.3]],\n",
       " (6.3, 2.5, 5.0, 1.9): [[6.3, 2.5, 5.0, 1.9]]}"
      ]
     },
     "execution_count": 9,
     "metadata": {},
     "output_type": "execute_result"
    }
   ],
   "source": [
    "def create_clusters(centroids, dataset,distance_method):\n",
    "    distances = {}\n",
    "\n",
    "    for data_point in dataset:\n",
    "        # data_point = np.array(data_point)\n",
    "        min_distance = float('inf')  # Initialization to find the minimum distance\n",
    "        closest_centroid = None\n",
    "\n",
    "        for centroid in centroids:\n",
    "            # centroid= np.array(centroid)\n",
    "            #dist = sum(abs(c - d) for c, d in zip(centroid, data_point))\n",
    "            dist = distance_method(centroid, data_point)\n",
    "            if dist < min_distance:\n",
    "                min_distance = dist\n",
    "                closest_centroid = tuple(centroid)  # Convert list to tuple to use as a key\n",
    "\n",
    "        if closest_centroid in distances:\n",
    "            distances[closest_centroid].append(data_point)  # Add instance and its centroid to the list\n",
    "        else:\n",
    "            distances[closest_centroid] = [data_point]  # Create a new list with the instance and its centroid\n",
    "\n",
    "    return distances\n",
    "\n",
    "\n",
    "clusters = create_clusters(values, data, distance_manhattan)\n",
    "\n",
    "clusters\n"
   ]
  },
  {
   "cell_type": "markdown",
   "metadata": {},
   "source": [
    "## Implement fitness method"
   ]
  },
  {
   "cell_type": "code",
   "execution_count": 10,
   "metadata": {},
   "outputs": [
    {
     "name": "stdout",
     "output_type": "stream",
     "text": [
      "Total distance using Manhattan distance: 0.02915451895043732\n"
     ]
    }
   ],
   "source": [
    "\n",
    "def calculate_fitness (clusters, distance_method):\n",
    "    dist =0\n",
    "    for centroid in clusters.keys():\n",
    "        for datapoint in clusters[centroid]:\n",
    "            dist += distance_method(centroid, datapoint)\n",
    "    return 1/dist\n",
    "\n",
    "    # Test fitness function with manhattan distance\n",
    "total_distance = calculate_fitness(clusters, distance_manhattan)\n",
    "    \n",
    "print(\"Total distance using Manhattan distance:\", total_distance)\n"
   ]
  },
  {
   "cell_type": "code",
   "execution_count": 11,
   "metadata": {},
   "outputs": [],
   "source": [
    "def fitness (binary_array,data_dict,distance_method):\n",
    "    centroids = get_values(binary_array, data_dict)\n",
    "    clusters = create_clusters(centroids, data, distance_method) \n",
    "    fitness_score = calculate_fitness(clusters, distance_method)\n",
    "    return fitness_score\n"
   ]
  },
  {
   "cell_type": "markdown",
   "metadata": {},
   "source": [
    "## Implement clans generating methods"
   ]
  },
  {
   "cell_type": "code",
   "execution_count": 12,
   "metadata": {},
   "outputs": [],
   "source": [
    "def init_clans(total_elephants, size_elephant, total_clans, k, distance_method):\n",
    "    elephants = [Clan(clan_id) for clan_id in range(1, total_clans + 1)]\n",
    "    binary_arrays = generate_binary_arrays(k, size_elephant, total_elephants)\n",
    "    for i, binary_array in enumerate(binary_arrays, start=1):\n",
    "        # Calculate fitness for each elephant\n",
    "        fitness_score = fitness(binary_array, data_dict, distance_method)\n",
    "        # Generate a random clan ID between 1 and total_clans\n",
    "        clan_id = np.random.randint(1, total_clans + 1)\n",
    "        # Create the Elephant object\n",
    "        elephant = Elephant(binary_array, fitness_score)\n",
    "        # Append the elephant to the corresponding clan\n",
    "        elephants[clan_id - 1].elephants.append(elephant)\n",
    "        # Update matriarch and male if necessary\n",
    "        if len(elephants[clan_id - 1].elephants) == 1 or fitness_score > elephants[clan_id - 1].best_fit:\n",
    "            elephants[clan_id - 1].matriarch = elephant\n",
    "            elephants[clan_id - 1].best_fit = fitness_score\n",
    "        if len(elephants[clan_id - 1].elephants) == 1 or fitness_score < elephants[clan_id - 1].male.fit:\n",
    "            elephants[clan_id - 1].male = elephant\n",
    "    return elephants\n",
    "\n",
    "total_elephants = 10\n",
    "size_elephant = 150\n",
    "total_clans =3\n",
    "centroids = 3 \n",
    "clans = init_clans(total_elephants, size_elephant, total_clans, centroids, distance_manhattan)\n",
    "\n",
    "gb = get_best_matriarch(clans)\n",
    "# print(\"global best: \", gb.fit)\n",
    "# for i, clan in enumerate(clans):\n",
    "#     print(\"Clan\", clan.clan_id, \"Elephants:\", \"Matriarch: \", clan.matriarch.fit, \"Male: \",clan.male.fit)\n",
    "#     for j, elephant in enumerate(clan.elephants):\n",
    "#         print(\"Elephant\", j+1, \"Binary Array:\", elephant.sol, \"Fitness:\", elephant.fit)\n",
    "        \n",
    "\n"
   ]
  },
  {
   "cell_type": "markdown",
   "metadata": {},
   "source": [
    "## Implement Elephant updating methods"
   ]
  },
  {
   "cell_type": "code",
   "execution_count": 13,
   "metadata": {},
   "outputs": [
    {
     "name": "stdout",
     "output_type": "stream",
     "text": [
      "old gbest [0, 0, 0, 0, 0, 0, 0, 0, 0, 0, 0, 0, 0, 0, 0, 0, 0, 0, 0, 0, 0, 0, 0, 0, 0, 0, 1, 0, 0, 0, 0, 0, 0, 0, 0, 0, 0, 0, 0, 0, 0, 0, 0, 0, 0, 0, 0, 0, 0, 0, 0, 0, 0, 0, 0, 0, 0, 0, 0, 0, 0, 0, 0, 0, 0, 0, 0, 0, 0, 0, 0, 0, 0, 0, 0, 0, 0, 1, 0, 0, 0, 0, 0, 0, 0, 0, 0, 0, 0, 0, 0, 0, 0, 0, 0, 0, 0, 0, 0, 0, 0, 0, 0, 0, 0, 0, 0, 0, 0, 0, 0, 0, 0, 0, 0, 0, 0, 0, 0, 0, 0, 0, 0, 0, 0, 0, 0, 0, 0, 0, 1, 0, 0, 0, 0, 0, 0, 0, 0, 0, 0, 0, 0, 0, 0, 0, 0, 0, 0, 0] 0.004629629629629629\n",
      "old matriarch :  [0, 0, 0, 0, 0, 0, 0, 0, 0, 0, 0, 0, 0, 0, 0, 0, 0, 0, 0, 0, 0, 0, 0, 0, 0, 0, 0, 0, 0, 0, 0, 0, 0, 0, 0, 0, 0, 0, 0, 0, 0, 0, 0, 0, 0, 0, 0, 0, 0, 0, 0, 0, 0, 0, 0, 0, 0, 0, 0, 0, 0, 0, 0, 0, 0, 0, 0, 1, 0, 0, 0, 0, 0, 0, 0, 0, 0, 0, 0, 0, 0, 0, 0, 0, 0, 0, 0, 0, 0, 0, 0, 0, 0, 0, 0, 0, 0, 0, 0, 0, 0, 0, 0, 0, 0, 0, 0, 0, 0, 0, 0, 1, 0, 1, 0, 0, 0, 0, 0, 0, 0, 0, 0, 0, 0, 0, 0, 0, 0, 0, 0, 0, 0, 0, 0, 0, 0, 0, 0, 0, 0, 0, 0, 0, 0, 0, 0, 0, 0, 0] 0.002628811777076761\n",
      "new matriarch :  [0, 0, 0, 0, 0, 0, 0, 0, 0, 0, 0, 0, 0, 1, 0, 0, 0, 0, 0, 0, 0, 0, 0, 0, 0, 0, 0, 0, 1, 0, 0, 0, 0, 0, 0, 0, 0, 0, 0, 0, 0, 0, 0, 0, 0, 0, 0, 0, 0, 0, 0, 1, 0, 0, 0, 0, 0, 0, 0, 0, 0, 0, 0, 0, 0, 0, 0, 0, 0, 0, 0, 0, 0, 0, 0, 0, 0, 0, 0, 0, 0, 0, 0, 0, 0, 0, 0, 0, 0, 0, 0, 0, 0, 0, 0, 0, 0, 0, 0, 0, 0, 0, 0, 0, 0, 0, 0, 0, 0, 0, 0, 0, 0, 0, 0, 0, 0, 0, 0, 0, 0, 0, 0, 0, 0, 0, 0, 0, 0, 0, 0, 0, 0, 0, 0, 0, 0, 0, 0, 0, 0, 0, 0, 0, 0, 0, 0, 0, 0, 0] 0.0042301184433164146\n",
      "old matriarch :  [0, 0, 0, 0, 0, 0, 0, 0, 0, 0, 0, 0, 0, 0, 0, 0, 0, 0, 0, 0, 0, 0, 0, 0, 0, 0, 1, 0, 0, 0, 0, 0, 0, 0, 0, 0, 0, 0, 0, 0, 0, 0, 0, 0, 0, 0, 0, 0, 0, 0, 0, 0, 0, 0, 0, 0, 0, 0, 0, 0, 0, 0, 0, 0, 0, 0, 0, 0, 0, 0, 0, 0, 0, 0, 0, 0, 0, 1, 0, 0, 0, 0, 0, 0, 0, 0, 0, 0, 0, 0, 0, 0, 0, 0, 0, 0, 0, 0, 0, 0, 0, 0, 0, 0, 0, 0, 0, 0, 0, 0, 0, 0, 0, 0, 0, 0, 0, 0, 0, 0, 0, 0, 0, 0, 0, 0, 0, 0, 0, 0, 1, 0, 0, 0, 0, 0, 0, 0, 0, 0, 0, 0, 0, 0, 0, 0, 0, 0, 0, 0] 0.004629629629629629\n",
      "new matriarch :  [0, 0, 0, 0, 0, 0, 0, 0, 0, 0, 0, 0, 0, 0, 0, 0, 0, 0, 0, 1, 0, 0, 0, 0, 0, 0, 0, 0, 0, 0, 0, 0, 0, 0, 0, 0, 0, 0, 0, 0, 0, 0, 0, 0, 0, 0, 0, 0, 0, 0, 0, 0, 0, 0, 0, 0, 0, 0, 0, 0, 0, 0, 0, 0, 0, 0, 0, 0, 0, 0, 0, 0, 0, 0, 0, 0, 0, 0, 0, 0, 0, 0, 0, 0, 0, 0, 0, 0, 0, 0, 0, 0, 0, 0, 0, 0, 0, 0, 0, 0, 0, 0, 0, 0, 0, 0, 0, 0, 0, 0, 0, 0, 0, 0, 0, 0, 0, 0, 0, 0, 0, 0, 0, 0, 0, 0, 0, 1, 0, 0, 0, 1, 0, 0, 0, 0, 0, 0, 0, 0, 0, 0, 0, 0, 0, 0, 0, 0, 0, 0] 0.004748338081671415\n",
      "old matriarch :  [0, 0, 0, 1, 0, 0, 0, 0, 0, 0, 0, 0, 0, 0, 0, 0, 0, 0, 0, 0, 0, 0, 0, 0, 0, 0, 0, 0, 0, 0, 0, 0, 0, 0, 0, 0, 0, 0, 0, 0, 0, 0, 0, 0, 0, 0, 1, 0, 0, 0, 0, 0, 0, 0, 0, 0, 0, 0, 0, 0, 0, 0, 0, 0, 0, 0, 0, 0, 0, 0, 0, 0, 0, 0, 0, 0, 0, 0, 0, 0, 0, 0, 0, 0, 0, 0, 0, 0, 0, 0, 0, 0, 0, 0, 0, 0, 0, 0, 0, 0, 0, 0, 0, 0, 0, 0, 0, 0, 0, 0, 0, 0, 0, 0, 0, 0, 0, 0, 0, 0, 0, 0, 0, 0, 0, 0, 0, 0, 0, 0, 0, 0, 0, 0, 0, 0, 0, 0, 0, 0, 0, 0, 0, 0, 0, 0, 0, 0, 0, 1] 0.004510599909788\n",
      "new matriarch :  [0, 0, 0, 0, 0, 0, 0, 0, 0, 0, 0, 0, 0, 0, 0, 0, 0, 0, 0, 0, 0, 0, 0, 0, 0, 0, 0, 0, 0, 0, 0, 0, 0, 0, 0, 0, 0, 0, 0, 0, 0, 0, 0, 0, 1, 0, 0, 0, 0, 0, 0, 0, 0, 0, 0, 0, 0, 1, 0, 0, 0, 0, 0, 0, 0, 0, 0, 0, 0, 0, 0, 0, 0, 0, 0, 0, 0, 0, 0, 0, 0, 0, 0, 0, 0, 0, 0, 0, 0, 0, 0, 0, 0, 0, 0, 0, 0, 0, 0, 0, 0, 0, 0, 0, 0, 0, 0, 0, 0, 0, 0, 0, 0, 0, 0, 0, 0, 0, 0, 0, 0, 0, 0, 0, 0, 0, 0, 0, 0, 0, 0, 0, 0, 0, 0, 0, 0, 0, 0, 0, 0, 1, 0, 0, 0, 0, 0, 0, 0, 0] 0.004051863857374393\n",
      "new gbest [0, 0, 0, 0, 0, 0, 0, 0, 0, 0, 0, 0, 0, 0, 0, 0, 0, 0, 0, 1, 0, 0, 0, 0, 0, 0, 0, 0, 0, 0, 0, 0, 0, 0, 0, 0, 0, 0, 0, 0, 0, 0, 0, 0, 0, 0, 0, 0, 0, 0, 0, 0, 0, 0, 0, 0, 0, 0, 0, 0, 0, 0, 0, 0, 0, 0, 0, 0, 0, 0, 0, 0, 0, 0, 0, 0, 0, 0, 0, 0, 0, 0, 0, 0, 0, 0, 0, 0, 0, 0, 0, 0, 0, 0, 0, 0, 0, 0, 0, 0, 0, 0, 0, 0, 0, 0, 0, 0, 0, 0, 0, 0, 0, 0, 0, 0, 0, 0, 0, 0, 0, 0, 0, 0, 0, 0, 0, 1, 0, 0, 0, 1, 0, 0, 0, 0, 0, 0, 0, 0, 0, 0, 0, 0, 0, 0, 0, 0, 0, 0] 0.004748338081671415\n"
     ]
    }
   ],
   "source": [
    "alpha = 1.5\n",
    "r = 0.5\n",
    "def update_elephants_position(clan, alpha, r, distance_method):\n",
    "    for elephant in clan.elephants:\n",
    "        x_best = np.array(clan.matriarch.sol)\n",
    "        x_old = np.array(elephant.sol)\n",
    "        mismatch_count = int(alpha * (np.sum(x_best != x_old)) * r)\n",
    "        \n",
    "        # Get the number of 1s in the old position array\n",
    "        count_ones_old = np.sum(x_old)\n",
    "        \n",
    "        # If mismatch count exceeds the number of 1s, limit it to the number of 1s\n",
    "        mismatch_count = min(mismatch_count, count_ones_old)\n",
    "        # print(\"missmatch \", mismatch_count)\n",
    "        # Flip 1s to 0s according to the mismatch count\n",
    "        ones_indices = np.where(x_old == 1)[0]\n",
    "        np.random.shuffle(ones_indices)\n",
    "        flip_to_zeros = ones_indices[:mismatch_count]\n",
    "        x_old[flip_to_zeros] = 0\n",
    "        # Flip 0s to 1s randomly according to the mismatch count\n",
    "        zeros_indices = np.where(x_old == 0)[0]\n",
    "        np.random.shuffle(zeros_indices)\n",
    "        flip_to_ones = zeros_indices[:mismatch_count]\n",
    "        x_old[flip_to_ones] = 1\n",
    "        # Update the elephant's solution\n",
    "        elephant.sol = x_old.tolist()\n",
    "        elephant.fit = fitness(elephant.sol, data_dict, distance_method)\n",
    "    # return clan\n",
    "\n",
    "\n",
    "\n",
    "\n",
    "def update_best_elephants_position(clan,gbest,r, distance_method):\n",
    "    x_best = np.array(gbest)\n",
    "    x_old = np.array(clan.matriarch.sol)\n",
    "    mismatch_count = int((np.sum(x_best != x_old)) * r)\n",
    "    \n",
    "    # Get the number of 1s in the old position array\n",
    "    count_ones_old = np.sum(x_old)\n",
    "    \n",
    "    # If mismatch count exceeds the number of 1s, limit it to the number of 1s\n",
    "    mismatch_count = min(mismatch_count, count_ones_old)\n",
    "    # print(\"missmatch \", mismatch_count)\n",
    "    # Flip 1s to 0s according to the mismatch count\n",
    "    ones_indices = np.where(x_old == 1)[0]\n",
    "    np.random.shuffle(ones_indices)\n",
    "    flip_to_zeros = ones_indices[:mismatch_count]\n",
    "    x_old[flip_to_zeros] = 0\n",
    "    # Flip 0s to 1s randomly according to the mismatch count\n",
    "    zeros_indices = np.where(x_old == 0)[0]\n",
    "    np.random.shuffle(zeros_indices)\n",
    "    flip_to_ones = zeros_indices[:mismatch_count]\n",
    "    x_old[flip_to_ones] = 1\n",
    "    # Update the elephant's solution\n",
    "    clan.matriarch.sol = x_old.tolist()\n",
    "    clan.matriarch.fit = fitness(clan.matriarch.sol, data_dict, distance_method)\n",
    "    # return clan\n",
    "\n",
    "\n",
    "\n",
    "\n",
    "def replace_worst_elephant(clan,distance_method):\n",
    "    x = clan.male.sol\n",
    "    num_ones = np.sum(x)  # Count the number of ones in the array\n",
    "    shuffled_array = np.zeros_like(x)  # Create an array of zeros of the same size\n",
    "    \n",
    "    # Set 'num_ones' random positions in the array to 1\n",
    "    indices = np.random.choice(len(x), size=num_ones, replace=False)\n",
    "    shuffled_array[indices] = 1\n",
    "    clan.male.sol = shuffled_array.tolist()\n",
    "    clan.male.fit = fitness(clan.male.sol, data_dict, distance_method)\n",
    "    # return clan\n",
    "    \n",
    "\n",
    "\n",
    "def update_matriarches(clan):\n",
    "    fitness_values = np.array([elephant.fit for elephant in clan.elephants])\n",
    "    max_index = np.argmax(fitness_values)\n",
    "    clan.matriarch = clan.elephants[max_index]\n",
    "\n",
    "    \n",
    "\n",
    "gbest = get_best_matriarch(clans)\n",
    "print(\"old gbest\" , gbest.sol, gbest.fit)\n",
    "for i, clan in enumerate(clans):\n",
    "    # print(\"Old clan after upadate position\")\n",
    "    print(\"old matriarch : \", clan.matriarch.sol, clan.matriarch.fit)\n",
    "    update_elephants_position(clan, alpha, r, distance_manhattan)\n",
    "    update_best_elephants_position(clan,gbest,r, distance_manhattan)\n",
    "    replace_worst_elephant(clan,distance_manhattan)\n",
    "    update_matriarches(clan)\n",
    "    print(\"new matriarch : \", clan.matriarch.sol, clan.matriarch.fit)\n",
    "    # for j, elephant in enumerate(clan.elephants):\n",
    "    #     print(\"Elephant\", j+1, \"Binary Array:\", elephant.sol, \"Fitness:\", elephant.fit)\n",
    "    #     solution = elephant.sol\n",
    "    # print(\"New clan after upadate position\")\n",
    "    # gbest = get_best_matriarch(clans)\n",
    "    # clan_new = replace_worst_elephant(clan,distance_manhattan)\n",
    "    # print(\"male: \", clan_new.male.sol)\n",
    "    # for j, elephant in enumerate(clan_new.elephants):\n",
    "    #     print(\"Elephant\", j+1, \"Binary Array:\", elephant.sol, \"Fitness:\", elephant.fit)\n",
    "    #     solution = elephant.sol\n",
    "gbest = get_best_matriarch(clans)\n",
    "print(\"new gbest\" , gbest.sol, gbest.fit)\n",
    "\n",
    "def update_global_best(clan):\n",
    "    return "
   ]
  },
  {
   "cell_type": "code",
   "execution_count": 14,
   "metadata": {},
   "outputs": [],
   "source": [
    "def update_elephants(clans, alpha, r,distance_method,gbest):\n",
    "    for clan in clans:\n",
    "        update_elephants_position(clan, alpha, r, distance_method)\n",
    "        update_best_elephants_position(clan,gbest,r, distance_method)\n",
    "        replace_worst_elephant(clan,distance_method)\n",
    "        update_matriarches(clan)\n",
    "    gbest = get_best_matriarch(clans)\n",
    "    return gbest"
   ]
  },
  {
   "cell_type": "markdown",
   "metadata": {},
   "source": [
    "## DEHO algorithm"
   ]
  },
  {
   "cell_type": "code",
   "execution_count": 15,
   "metadata": {},
   "outputs": [
    {
     "name": "stdout",
     "output_type": "stream",
     "text": [
      "manathan distance \n",
      "\n",
      "meilleur solution trouvée avec 2  clusters :\n",
      "[12, 124]\n",
      "fitness score:\n",
      "0.004391743522178304\n",
      "meilleur solution trouvée avec 3  clusters :\n",
      "[28, 64, 113]\n",
      "fitness score:\n",
      "0.005875440658049352\n",
      "meilleur solution trouvée avec 4  clusters :\n",
      "[3, 95, 118, 148]\n",
      "fitness score:\n",
      "0.0061652281134402\n",
      "meilleur solution trouvée avec 5  clusters :\n",
      "[5, 90, 106, 134, 148]\n",
      "fitness score:\n",
      "0.007153075822603719\n",
      "\n",
      "euclidienne distance \n",
      "\n",
      "meilleur solution trouvée avec 2  clusters :\n",
      "[1, 128]\n",
      "fitness score:\n",
      "0.007617056062988325\n",
      "meilleur solution trouvée avec 3  clusters :\n",
      "[50, 55, 133]\n",
      "fitness score:\n",
      "0.008974595962352694\n",
      "meilleur solution trouvée avec 4  clusters :\n",
      "[9, 22, 79, 141]\n",
      "fitness score:\n",
      "0.010308408514374113\n",
      "meilleur solution trouvée avec 5  clusters :\n",
      "[41, 43, 52, 81, 129]\n",
      "fitness score:\n",
      "0.010943076882320081\n"
     ]
    }
   ],
   "source": [
    "def DEHO( t,clusters, distance_method ):\n",
    "    total_elephants = 100\n",
    "    size_elephant = len(data)\n",
    "    total_clans =10\n",
    "    alpha = 1.5\n",
    "    r = 0.5\n",
    "\n",
    "    for i in range(2,clusters+1):\n",
    "        clans = init_clans(total_elephants, size_elephant, total_clans, i, distance_method)\n",
    "        global_best = get_best_matriarch(clans)\n",
    "        for gen in range(t):\n",
    "            global_best = update_elephants(clans, alpha, r,distance_method,global_best)\n",
    "        print(\"meilleur solution trouvée avec\",i,\" clusters :\")\n",
    "        print(binary_to_index(global_best.sol))\n",
    "        print(\"fitness score:\")\n",
    "        print(global_best.fit)\n",
    "    \n",
    "print(\"manathan distance \\n\")\n",
    "clans = DEHO( 100,5, distance_manhattan )\n",
    "\n",
    "print()\n",
    "print(\"euclidienne distance \\n\")\n",
    "\n",
    "clans = DEHO( 100,5, distance_euclidean )"
   ]
  }
 ],
 "metadata": {
  "kernelspec": {
   "display_name": "Python 3",
   "language": "python",
   "name": "python3"
  },
  "language_info": {
   "codemirror_mode": {
    "name": "ipython",
    "version": 3
   },
   "file_extension": ".py",
   "mimetype": "text/x-python",
   "name": "python",
   "nbconvert_exporter": "python",
   "pygments_lexer": "ipython3",
   "version": "3.11.5"
  }
 },
 "nbformat": 4,
 "nbformat_minor": 2
}
